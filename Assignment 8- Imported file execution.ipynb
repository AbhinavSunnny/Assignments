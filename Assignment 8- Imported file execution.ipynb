{
 "cells": [
  {
   "cell_type": "code",
   "execution_count": 2,
   "id": "a5fb1c08",
   "metadata": {},
   "outputs": [],
   "source": [
    "import word_count as wc"
   ]
  },
  {
   "cell_type": "code",
   "execution_count": 3,
   "id": "cb5fa007",
   "metadata": {},
   "outputs": [],
   "source": [
    "str1='When indefinite articles are used before a noun (such as a ball), they do not refer to a specific noun (like the soccer ball) but a noun in general (any ball—maybe a tennis ball or a football or even a baseball) So if you tell your friend to grab a ball, she might bring back a tennis ball or a football or even a baseball because you were not specific about which ball you wanted.'\n"
   ]
  },
  {
   "cell_type": "code",
   "execution_count": 6,
   "id": "354404a6",
   "metadata": {},
   "outputs": [
    {
     "data": {
      "text/plain": [
       "'When indefinite articles are used before a noun such as a ball they do not refer to a specific noun like the soccer ball but a noun in general any ball—maybe a tennis ball or a football or even a baseball So if you tell your friend to grab a ball she might bring back a tennis ball or a football or even a baseball because you were not specific about which ball you wanted'"
      ]
     },
     "execution_count": 6,
     "metadata": {},
     "output_type": "execute_result"
    }
   ],
   "source": [
    "str2 = wc.remove_punc(str1)\n",
    "str2"
   ]
  },
  {
   "cell_type": "code",
   "execution_count": 7,
   "id": "5bd04a4c",
   "metadata": {},
   "outputs": [
    {
     "data": {
      "text/plain": [
       "['When',\n",
       " 'indefinite',\n",
       " 'articles',\n",
       " 'are',\n",
       " 'used',\n",
       " 'before',\n",
       " 'a',\n",
       " 'noun',\n",
       " 'such',\n",
       " 'as',\n",
       " 'a',\n",
       " 'ball',\n",
       " 'they',\n",
       " 'do',\n",
       " 'not',\n",
       " 'refer',\n",
       " 'to',\n",
       " 'a',\n",
       " 'specific',\n",
       " 'noun',\n",
       " 'like',\n",
       " 'the',\n",
       " 'soccer',\n",
       " 'ball',\n",
       " 'but',\n",
       " 'a',\n",
       " 'noun',\n",
       " 'in',\n",
       " 'general',\n",
       " 'any',\n",
       " 'ball—maybe',\n",
       " 'a',\n",
       " 'tennis',\n",
       " 'ball',\n",
       " 'or',\n",
       " 'a',\n",
       " 'football',\n",
       " 'or',\n",
       " 'even',\n",
       " 'a',\n",
       " 'baseball',\n",
       " 'So',\n",
       " 'if',\n",
       " 'you',\n",
       " 'tell',\n",
       " 'your',\n",
       " 'friend',\n",
       " 'to',\n",
       " 'grab',\n",
       " 'a',\n",
       " 'ball',\n",
       " 'she',\n",
       " 'might',\n",
       " 'bring',\n",
       " 'back',\n",
       " 'a',\n",
       " 'tennis',\n",
       " 'ball',\n",
       " 'or',\n",
       " 'a',\n",
       " 'football',\n",
       " 'or',\n",
       " 'even',\n",
       " 'a',\n",
       " 'baseball',\n",
       " 'because',\n",
       " 'you',\n",
       " 'were',\n",
       " 'not',\n",
       " 'specific',\n",
       " 'about',\n",
       " 'which',\n",
       " 'ball',\n",
       " 'you',\n",
       " 'wanted']"
      ]
     },
     "execution_count": 7,
     "metadata": {},
     "output_type": "execute_result"
    }
   ],
   "source": [
    "L1 = wc.word_split(str2)\n",
    "L1"
   ]
  },
  {
   "cell_type": "code",
   "execution_count": 9,
   "id": "b24b400c",
   "metadata": {},
   "outputs": [
    {
     "data": {
      "text/plain": [
       "{'When': 1,\n",
       " 'indefinite': 1,\n",
       " 'articles': 1,\n",
       " 'are': 1,\n",
       " 'used': 1,\n",
       " 'before': 1,\n",
       " 'a': 11,\n",
       " 'noun': 3,\n",
       " 'such': 1,\n",
       " 'as': 1,\n",
       " 'ball': 6,\n",
       " 'they': 1,\n",
       " 'do': 1,\n",
       " 'not': 2,\n",
       " 'refer': 1,\n",
       " 'to': 2,\n",
       " 'specific': 2,\n",
       " 'like': 1,\n",
       " 'the': 1,\n",
       " 'soccer': 1,\n",
       " 'but': 1,\n",
       " 'in': 1,\n",
       " 'general': 1,\n",
       " 'any': 1,\n",
       " 'ball—maybe': 1,\n",
       " 'tennis': 2,\n",
       " 'or': 4,\n",
       " 'football': 2,\n",
       " 'even': 2,\n",
       " 'baseball': 2,\n",
       " 'So': 1,\n",
       " 'if': 1,\n",
       " 'you': 3,\n",
       " 'tell': 1,\n",
       " 'your': 1,\n",
       " 'friend': 1,\n",
       " 'grab': 1,\n",
       " 'she': 1,\n",
       " 'might': 1,\n",
       " 'bring': 1,\n",
       " 'back': 1,\n",
       " 'because': 1,\n",
       " 'were': 1,\n",
       " 'about': 1,\n",
       " 'which': 1,\n",
       " 'wanted': 1}"
      ]
     },
     "execution_count": 9,
     "metadata": {},
     "output_type": "execute_result"
    }
   ],
   "source": [
    "d1= wc.word_dict(L1)\n",
    "d1"
   ]
  },
  {
   "cell_type": "code",
   "execution_count": null,
   "id": "a1ad2050",
   "metadata": {},
   "outputs": [],
   "source": [
    "word_frequency_df = word_freq_table(d1)\n",
    "print(word_frequency_df)"
   ]
  }
 ],
 "metadata": {
  "kernelspec": {
   "display_name": "Python 3 (ipykernel)",
   "language": "python",
   "name": "python3"
  },
  "language_info": {
   "codemirror_mode": {
    "name": "ipython",
    "version": 3
   },
   "file_extension": ".py",
   "mimetype": "text/x-python",
   "name": "python",
   "nbconvert_exporter": "python",
   "pygments_lexer": "ipython3",
   "version": "3.10.9"
  }
 },
 "nbformat": 4,
 "nbformat_minor": 5
}
