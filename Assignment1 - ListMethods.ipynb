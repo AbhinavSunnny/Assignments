{
 "cells": [
  {
   "cell_type": "code",
   "execution_count": 42,
   "id": "ca2cbc51",
   "metadata": {},
   "outputs": [],
   "source": [
    "list=['a','b','c','d','e']"
   ]
  },
  {
   "cell_type": "code",
   "execution_count": 43,
   "id": "e80616aa",
   "metadata": {},
   "outputs": [
    {
     "data": {
      "text/plain": [
       "['a', 'b', 'c', 'd', 'e']"
      ]
     },
     "execution_count": 43,
     "metadata": {},
     "output_type": "execute_result"
    }
   ],
   "source": [
    "list"
   ]
  },
  {
   "cell_type": "code",
   "execution_count": 44,
   "id": "cebd0e39",
   "metadata": {},
   "outputs": [
    {
     "data": {
      "text/plain": [
       "['a', 'b', 'c', 'd', 'e', 'f']"
      ]
     },
     "execution_count": 44,
     "metadata": {},
     "output_type": "execute_result"
    }
   ],
   "source": [
    "list.append('f') #use of Append funtion\n",
    "list"
   ]
  },
  {
   "cell_type": "code",
   "execution_count": 45,
   "id": "138ed7f8",
   "metadata": {},
   "outputs": [
    {
     "data": {
      "text/plain": [
       "['a', 'b', 'c', 'd', 'e', 'f']"
      ]
     },
     "execution_count": 45,
     "metadata": {},
     "output_type": "execute_result"
    }
   ],
   "source": [
    "list2=list.copy() #use of copy funtion\n",
    "list2"
   ]
  },
  {
   "cell_type": "code",
   "execution_count": 46,
   "id": "9cb0d1c9",
   "metadata": {},
   "outputs": [
    {
     "data": {
      "text/plain": [
       "[]"
      ]
     },
     "execution_count": 46,
     "metadata": {},
     "output_type": "execute_result"
    }
   ],
   "source": [
    "list2.clear() #use of clear funtion\n",
    "list2"
   ]
  },
  {
   "cell_type": "code",
   "execution_count": 47,
   "id": "ad3989ce",
   "metadata": {},
   "outputs": [
    {
     "name": "stdout",
     "output_type": "stream",
     "text": [
      "1\n"
     ]
    }
   ],
   "source": [
    "print(list.count('a')) #use of count funtion"
   ]
  },
  {
   "cell_type": "code",
   "execution_count": 48,
   "id": "50f5561b",
   "metadata": {},
   "outputs": [
    {
     "data": {
      "text/plain": [
       "[1, 2, 3, 'a', 'b', 'c', 'd', 'e', 'f']"
      ]
     },
     "execution_count": 48,
     "metadata": {},
     "output_type": "execute_result"
    }
   ],
   "source": [
    "list3=[1,2,3]\n",
    "list3.extend(list) #use of extend funtion\n",
    "list3"
   ]
  },
  {
   "cell_type": "code",
   "execution_count": 50,
   "id": "19d98b93",
   "metadata": {},
   "outputs": [
    {
     "data": {
      "text/plain": [
       "['z', 'a', 'b', 'c', 'd', 'e', 'f']"
      ]
     },
     "execution_count": 50,
     "metadata": {},
     "output_type": "execute_result"
    }
   ],
   "source": [
    "list.insert(0,'z') #use of insert funtion\n",
    "list"
   ]
  },
  {
   "cell_type": "code",
   "execution_count": 51,
   "id": "5f1be4cb",
   "metadata": {},
   "outputs": [
    {
     "data": {
      "text/plain": [
       "['z', 'a', 'b', 'c', 'd', 'e']"
      ]
     },
     "execution_count": 51,
     "metadata": {},
     "output_type": "execute_result"
    }
   ],
   "source": [
    "list.pop() #use of pop funtion\n",
    "list"
   ]
  },
  {
   "cell_type": "code",
   "execution_count": 52,
   "id": "4cb70a49",
   "metadata": {},
   "outputs": [
    {
     "data": {
      "text/plain": [
       "['a', 'b', 'c', 'd', 'e']"
      ]
     },
     "execution_count": 52,
     "metadata": {},
     "output_type": "execute_result"
    }
   ],
   "source": [
    "list.remove('z') #use of remove funtion\n",
    "list"
   ]
  },
  {
   "cell_type": "code",
   "execution_count": 53,
   "id": "1168c8da",
   "metadata": {},
   "outputs": [
    {
     "data": {
      "text/plain": [
       "['e', 'd', 'c', 'b', 'a']"
      ]
     },
     "execution_count": 53,
     "metadata": {},
     "output_type": "execute_result"
    }
   ],
   "source": [
    "list.reverse() #use of reverse funtion\n",
    "list"
   ]
  },
  {
   "cell_type": "code",
   "execution_count": 54,
   "id": "f8cf8aec",
   "metadata": {},
   "outputs": [
    {
     "data": {
      "text/plain": [
       "['a', 'b', 'c', 'd', 'e']"
      ]
     },
     "execution_count": 54,
     "metadata": {},
     "output_type": "execute_result"
    }
   ],
   "source": [
    "list.sort() #use of sort funtion\n",
    "list"
   ]
  },
  {
   "cell_type": "code",
   "execution_count": 55,
   "id": "0f9aa67a",
   "metadata": {},
   "outputs": [
    {
     "name": "stdout",
     "output_type": "stream",
     "text": [
      "a\n"
     ]
    }
   ],
   "source": [
    "print(min(list)) #use of minimum funtion"
   ]
  },
  {
   "cell_type": "code",
   "execution_count": 60,
   "id": "e9d5e387",
   "metadata": {},
   "outputs": [
    {
     "name": "stdout",
     "output_type": "stream",
     "text": [
      "e\n"
     ]
    }
   ],
   "source": [
    "print(max(list)) #use of maximum funtion"
   ]
  },
  {
   "cell_type": "code",
   "execution_count": null,
   "id": "5c136df3",
   "metadata": {},
   "outputs": [],
   "source": []
  }
 ],
 "metadata": {
  "kernelspec": {
   "display_name": "Python 3 (ipykernel)",
   "language": "python",
   "name": "python3"
  },
  "language_info": {
   "codemirror_mode": {
    "name": "ipython",
    "version": 3
   },
   "file_extension": ".py",
   "mimetype": "text/x-python",
   "name": "python",
   "nbconvert_exporter": "python",
   "pygments_lexer": "ipython3",
   "version": "3.10.9"
  }
 },
 "nbformat": 4,
 "nbformat_minor": 5
}
