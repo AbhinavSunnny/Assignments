{
 "cells": [
  {
   "cell_type": "code",
   "execution_count": 24,
   "id": "02f254f9",
   "metadata": {},
   "outputs": [
    {
     "name": "stdout",
     "output_type": "stream",
     "text": [
      "enter surnamesriramula\n",
      "enter nameabhinav\n"
     ]
    }
   ],
   "source": [
    "s,n=input('enter surname'),input('enter name')"
   ]
  },
  {
   "cell_type": "code",
   "execution_count": 25,
   "id": "54cddfd4",
   "metadata": {},
   "outputs": [],
   "source": [
    "o1=s.capitalize()\n"
   ]
  },
  {
   "cell_type": "code",
   "execution_count": 26,
   "id": "9be9b502",
   "metadata": {},
   "outputs": [],
   "source": [
    "o2=n.capitalize()"
   ]
  },
  {
   "cell_type": "code",
   "execution_count": 27,
   "id": "7c2de8df",
   "metadata": {},
   "outputs": [
    {
     "name": "stdout",
     "output_type": "stream",
     "text": [
      "Abhinav Sriramula\n"
     ]
    }
   ],
   "source": [
    "print(o2,o1)    # Printing Given name first and surname next"
   ]
  },
  {
   "cell_type": "code",
   "execution_count": 28,
   "id": "e87ee593",
   "metadata": {},
   "outputs": [
    {
     "name": "stdout",
     "output_type": "stream",
     "text": [
      "S.Abhinav\n"
     ]
    }
   ],
   "source": [
    "print(o1[0]+'.'+o2)  # Printing first letter of surname and given name next with pullstop in between"
   ]
  },
  {
   "cell_type": "code",
   "execution_count": 29,
   "id": "6d9ebe58",
   "metadata": {},
   "outputs": [
    {
     "name": "stdout",
     "output_type": "stream",
     "text": [
      "Abhinav\n"
     ]
    }
   ],
   "source": [
    "if len(o2)<15:        # Prints upto limitting 15\n",
    "    print(o2)\n",
    "elif len(o2)>=15:\n",
    "    for i in o2:\n",
    "        print(i,end='')\n",
    "        "
   ]
  },
  {
   "cell_type": "code",
   "execution_count": null,
   "id": "5128dcb1",
   "metadata": {},
   "outputs": [],
   "source": []
  }
 ],
 "metadata": {
  "kernelspec": {
   "display_name": "Python 3 (ipykernel)",
   "language": "python",
   "name": "python3"
  },
  "language_info": {
   "codemirror_mode": {
    "name": "ipython",
    "version": 3
   },
   "file_extension": ".py",
   "mimetype": "text/x-python",
   "name": "python",
   "nbconvert_exporter": "python",
   "pygments_lexer": "ipython3",
   "version": "3.10.9"
  }
 },
 "nbformat": 4,
 "nbformat_minor": 5
}
