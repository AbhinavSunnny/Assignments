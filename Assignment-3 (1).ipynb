{
 "cells": [
  {
   "cell_type": "markdown",
   "id": "094acfe0",
   "metadata": {},
   "source": [
    "LIST COMPREHENSION"
   ]
  },
  {
   "cell_type": "code",
   "execution_count": 2,
   "id": "20054743",
   "metadata": {},
   "outputs": [
    {
     "data": {
      "text/plain": [
       "[0, 1, 2, 3, 4, 5, 6, 7, 8, 9, 10, 11, 12, 13, 14, 15, 16, 17, 18, 19]"
      ]
     },
     "execution_count": 2,
     "metadata": {},
     "output_type": "execute_result"
    }
   ],
   "source": [
    "[x for x in range(20)]  # Without if-condition"
   ]
  },
  {
   "cell_type": "code",
   "execution_count": 3,
   "id": "4e14512e",
   "metadata": {},
   "outputs": [
    {
     "data": {
      "text/plain": [
       "[1, 3, 5, 7, 9, 11, 13, 15, 17, 19]"
      ]
     },
     "execution_count": 3,
     "metadata": {},
     "output_type": "execute_result"
    }
   ],
   "source": [
    "[y for y in range(20) if y%2!=0] # With if-condition"
   ]
  },
  {
   "cell_type": "code",
   "execution_count": 4,
   "id": "8e6f7717",
   "metadata": {},
   "outputs": [
    {
     "data": {
      "text/plain": [
       "[0, 2, 4, 6, 8, 10, 12, 14, 16, 18]"
      ]
     },
     "execution_count": 4,
     "metadata": {},
     "output_type": "execute_result"
    }
   ],
   "source": [
    "[y for y in range(20) if y%2==0] # With if-condition"
   ]
  },
  {
   "cell_type": "markdown",
   "id": "7d1aded9",
   "metadata": {},
   "source": [
    "LAMBDA FUNCTION:\n",
    "            Lambda is a function, not like others. it takes arguments and evaluates in one        expression only."
   ]
  },
  {
   "cell_type": "code",
   "execution_count": 11,
   "id": "00c9aecb",
   "metadata": {},
   "outputs": [
    {
     "data": {
      "text/plain": [
       "27"
      ]
     },
     "execution_count": 11,
     "metadata": {},
     "output_type": "execute_result"
    }
   ],
   "source": [
    "k1=lambda x: (x**2)+(x-3)  # Use of Lambda\n",
    "k1(5)"
   ]
  },
  {
   "cell_type": "code",
   "execution_count": 13,
   "id": "61e0dc5c",
   "metadata": {},
   "outputs": [],
   "source": [
    "nums=[1,2,3,4,5,6]\n"
   ]
  },
  {
   "cell_type": "markdown",
   "id": "0b621aa7",
   "metadata": {},
   "source": [
    "MAP-FILTER-REDUCE---> All these takes two aarguments."
   ]
  },
  {
   "cell_type": "code",
   "execution_count": 27,
   "id": "0c79544f",
   "metadata": {},
   "outputs": [
    {
     "name": "stdout",
     "output_type": "stream",
     "text": [
      "[1, 4, 9, 16, 25, 36]\n"
     ]
    }
   ],
   "source": [
    "print(list(map(lambda x: x**2,nums)))  # Use of map() function"
   ]
  },
  {
   "cell_type": "code",
   "execution_count": 28,
   "id": "94328740",
   "metadata": {},
   "outputs": [
    {
     "name": "stdout",
     "output_type": "stream",
     "text": [
      "[1, 2, 3, 4, 5, 6]\n"
     ]
    }
   ],
   "source": [
    "print(list(filter(lambda x: x**2,nums)))  # Use of filter() function"
   ]
  },
  {
   "cell_type": "code",
   "execution_count": 29,
   "id": "cafb756c",
   "metadata": {},
   "outputs": [],
   "source": [
    "# For using reduce we need to import it from functools. and in lambda it takes two parameters."
   ]
  },
  {
   "cell_type": "code",
   "execution_count": 30,
   "id": "b1f7ec5d",
   "metadata": {},
   "outputs": [
    {
     "name": "stdout",
     "output_type": "stream",
     "text": [
      "720\n"
     ]
    }
   ],
   "source": [
    "from functools import reduce\n",
    "print(reduce(lambda x,y: x*y,nums)) # Use of reduce() function"
   ]
  },
  {
   "cell_type": "markdown",
   "id": "d45b0ae5",
   "metadata": {},
   "source": [
    "Use of ZIP Function"
   ]
  },
  {
   "cell_type": "code",
   "execution_count": 31,
   "id": "40af44ee",
   "metadata": {},
   "outputs": [
    {
     "data": {
      "text/plain": [
       "{'a': 1, 'b': 2, 'c': 3, 'd': 4, 'e': 5}"
      ]
     },
     "execution_count": 31,
     "metadata": {},
     "output_type": "execute_result"
    }
   ],
   "source": [
    "k=['a','b','c','d','e']\n",
    "v=[1,2,3,4,5]\n",
    "\n",
    "d={k:v for k,v in zip(k,v)}\n",
    "d"
   ]
  },
  {
   "cell_type": "code",
   "execution_count": 33,
   "id": "05023cc4",
   "metadata": {},
   "outputs": [
    {
     "name": "stdout",
     "output_type": "stream",
     "text": [
      "{'a': 1, 'b': 2, 'c': 3, 'd': 4, 'e': 5}\n"
     ]
    }
   ],
   "source": [
    "print(dict(zip(k,v)))"
   ]
  },
  {
   "cell_type": "code",
   "execution_count": null,
   "id": "072a8e7c",
   "metadata": {},
   "outputs": [],
   "source": []
  }
 ],
 "metadata": {
  "kernelspec": {
   "display_name": "Python 3 (ipykernel)",
   "language": "python",
   "name": "python3"
  },
  "language_info": {
   "codemirror_mode": {
    "name": "ipython",
    "version": 3
   },
   "file_extension": ".py",
   "mimetype": "text/x-python",
   "name": "python",
   "nbconvert_exporter": "python",
   "pygments_lexer": "ipython3",
   "version": "3.10.9"
  }
 },
 "nbformat": 4,
 "nbformat_minor": 5
}
