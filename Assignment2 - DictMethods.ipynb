{
 "cells": [
  {
   "cell_type": "code",
   "execution_count": 63,
   "id": "706bdfd9",
   "metadata": {},
   "outputs": [],
   "source": [
    "dict1={1:'Abhinav',2:'The',3:'Great'}"
   ]
  },
  {
   "cell_type": "code",
   "execution_count": 64,
   "id": "095a55b4",
   "metadata": {},
   "outputs": [
    {
     "data": {
      "text/plain": [
       "{1: 'Abhinav', 2: 'The', 3: 'Great'}"
      ]
     },
     "execution_count": 64,
     "metadata": {},
     "output_type": "execute_result"
    }
   ],
   "source": [
    "dict1"
   ]
  },
  {
   "cell_type": "markdown",
   "id": "ae72e4d6",
   "metadata": {},
   "source": [
    "Dictionary Methods:\n",
    "        1. clear      - clears all the elements in dictionary\n",
    "        2. copy       - copies one dict to another\n",
    "        3. fromkeys   - creates keys and values when they are seperate also. But these has to in list formats\n",
    "        4. get        - returns the value of that key, if no value then it will show default value\n",
    "        5. items      - returns list of tuples containg key and value\n",
    "        6. keys       - returns all the keys of dictionary\n",
    "        7. pop        - removes item with given key. if no key it gives an error\n",
    "        8. popitem    - removes and returns a pair from dict\n",
    "        9. setdefault - gives the value for that key, if there is no value it will give efault value\n",
    "       10. update     - Updates the dictionary with the specified key-value pairs. If a key already exists, its value                         is overwritten.\n",
    "       11. values     - returns all values"
   ]
  },
  {
   "cell_type": "code",
   "execution_count": 65,
   "id": "eeb3967f",
   "metadata": {},
   "outputs": [
    {
     "data": {
      "text/plain": [
       "{}"
      ]
     },
     "execution_count": 65,
     "metadata": {},
     "output_type": "execute_result"
    }
   ],
   "source": [
    "dict2.clear() # Use of clear method\n",
    "dict2"
   ]
  },
  {
   "cell_type": "code",
   "execution_count": 66,
   "id": "6e207b40",
   "metadata": {},
   "outputs": [
    {
     "data": {
      "text/plain": [
       "{1: 'Abhinav', 2: 'The', 3: 'Great'}"
      ]
     },
     "execution_count": 66,
     "metadata": {},
     "output_type": "execute_result"
    }
   ],
   "source": [
    "dict2=dict1.copy() # Use of copy method\n",
    "dict2"
   ]
  },
  {
   "cell_type": "code",
   "execution_count": 67,
   "id": "3d22a03d",
   "metadata": {},
   "outputs": [
    {
     "data": {
      "text/plain": [
       "{4: ['and', 'best'], 5: ['and', 'best']}"
      ]
     },
     "execution_count": 67,
     "metadata": {},
     "output_type": "execute_result"
    }
   ],
   "source": [
    "keys=[4,5]\n",
    "values=['and','best']\n",
    "dict3=dict.fromkeys(keys, values) # Use of fromkeys method\n",
    "dict3"
   ]
  },
  {
   "cell_type": "code",
   "execution_count": 68,
   "id": "15105d5e",
   "metadata": {},
   "outputs": [
    {
     "name": "stdout",
     "output_type": "stream",
     "text": [
      "{'a': 10, 'b': 10, 'c': 10}\n"
     ]
    }
   ],
   "source": [
    "dict4 = dict.fromkeys(['a', 'b', 'c'], 10) # Use of fromkeys method\n",
    "print(dict4)\n",
    "\n"
   ]
  },
  {
   "cell_type": "code",
   "execution_count": 69,
   "id": "098787c5",
   "metadata": {},
   "outputs": [
    {
     "data": {
      "text/plain": [
       "'Abhinav'"
      ]
     },
     "execution_count": 69,
     "metadata": {},
     "output_type": "execute_result"
    }
   ],
   "source": [
    "dict5= dict1.get(1) # Use of get method\n",
    "dict5"
   ]
  },
  {
   "cell_type": "code",
   "execution_count": 70,
   "id": "9725b490",
   "metadata": {},
   "outputs": [
    {
     "name": "stdout",
     "output_type": "stream",
     "text": [
      "dict_items([(1, 'Abhinav'), (2, 'The'), (3, 'Great')])\n"
     ]
    }
   ],
   "source": [
    "print(dict1.items()) # Use of items method"
   ]
  },
  {
   "cell_type": "code",
   "execution_count": 71,
   "id": "666840a5",
   "metadata": {},
   "outputs": [
    {
     "name": "stdout",
     "output_type": "stream",
     "text": [
      "dict_keys([1, 2, 3])\n"
     ]
    }
   ],
   "source": [
    "print(dict1.keys()) # Use of keys method"
   ]
  },
  {
   "cell_type": "code",
   "execution_count": 72,
   "id": "ce8186d1",
   "metadata": {},
   "outputs": [
    {
     "name": "stdout",
     "output_type": "stream",
     "text": [
      "['and', 'best']\n"
     ]
    }
   ],
   "source": [
    "value=dict3.pop(5) # Use of pop method\n",
    "print(value)"
   ]
  },
  {
   "cell_type": "code",
   "execution_count": 73,
   "id": "c155d6dc",
   "metadata": {},
   "outputs": [
    {
     "name": "stdout",
     "output_type": "stream",
     "text": [
      "{4: ['and', 'best']}\n"
     ]
    }
   ],
   "source": [
    "print(dict3)"
   ]
  },
  {
   "cell_type": "code",
   "execution_count": 74,
   "id": "dc0e3e6b",
   "metadata": {},
   "outputs": [
    {
     "name": "stdout",
     "output_type": "stream",
     "text": [
      "(3, 'Great')\n"
     ]
    }
   ],
   "source": [
    "print(dict1.popitem()) # Use of popitem method"
   ]
  },
  {
   "cell_type": "code",
   "execution_count": 75,
   "id": "d3ac5233",
   "metadata": {},
   "outputs": [
    {
     "name": "stdout",
     "output_type": "stream",
     "text": [
      "{1: 'Abhinav', 2: 'The'}\n"
     ]
    }
   ],
   "source": [
    "print(dict1)"
   ]
  },
  {
   "cell_type": "code",
   "execution_count": 78,
   "id": "a20deca1",
   "metadata": {},
   "outputs": [
    {
     "name": "stdout",
     "output_type": "stream",
     "text": [
      "Great\n"
     ]
    }
   ],
   "source": [
    "print(dict1.setdefault(3,'Great'))  # Use of setdefault method"
   ]
  },
  {
   "cell_type": "code",
   "execution_count": 79,
   "id": "756f1dfe",
   "metadata": {},
   "outputs": [
    {
     "data": {
      "text/plain": [
       "{1: 'Abhinav', 2: 'The', 3: 'Great'}"
      ]
     },
     "execution_count": 79,
     "metadata": {},
     "output_type": "execute_result"
    }
   ],
   "source": [
    "dict1"
   ]
  },
  {
   "cell_type": "code",
   "execution_count": 82,
   "id": "f7e71cee",
   "metadata": {},
   "outputs": [],
   "source": [
    "dict1.update({3:'Greatest'}) # Use of update method"
   ]
  },
  {
   "cell_type": "code",
   "execution_count": 84,
   "id": "83146774",
   "metadata": {},
   "outputs": [
    {
     "data": {
      "text/plain": [
       "{1: 'Abhinav', 2: 'The', 3: 'Greatest'}"
      ]
     },
     "execution_count": 84,
     "metadata": {},
     "output_type": "execute_result"
    }
   ],
   "source": [
    "dict1"
   ]
  },
  {
   "cell_type": "code",
   "execution_count": 91,
   "id": "7b8cd085",
   "metadata": {},
   "outputs": [
    {
     "name": "stdout",
     "output_type": "stream",
     "text": [
      "dict_values(['Abhinav', 'The', 'Greatest'])\n"
     ]
    }
   ],
   "source": [
    "print(dict1.values())  # Use of values method"
   ]
  },
  {
   "cell_type": "code",
   "execution_count": null,
   "id": "fd8dfe94",
   "metadata": {},
   "outputs": [],
   "source": []
  }
 ],
 "metadata": {
  "kernelspec": {
   "display_name": "Python 3 (ipykernel)",
   "language": "python",
   "name": "python3"
  },
  "language_info": {
   "codemirror_mode": {
    "name": "ipython",
    "version": 3
   },
   "file_extension": ".py",
   "mimetype": "text/x-python",
   "name": "python",
   "nbconvert_exporter": "python",
   "pygments_lexer": "ipython3",
   "version": "3.10.9"
  }
 },
 "nbformat": 4,
 "nbformat_minor": 5
}
