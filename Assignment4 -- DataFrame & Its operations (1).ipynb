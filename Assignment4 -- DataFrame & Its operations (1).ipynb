{
 "cells": [
  {
   "cell_type": "code",
   "execution_count": 79,
   "id": "11983f47",
   "metadata": {},
   "outputs": [],
   "source": [
    "import pandas as pd\n",
    "import numpy as np"
   ]
  },
  {
   "cell_type": "code",
   "execution_count": 80,
   "id": "3ea514b1",
   "metadata": {},
   "outputs": [],
   "source": [
    "data={'Subject_name':['ttnm','dld','ackts','uvm','edc','Con-Sys','Sig-Sys','oops','java','ac','dc','ddsv','dataStruc','ese','Cyb-Sec','english','p1','p2'] ,\n",
    "'Subdivision': ['Gen','ec','ec','vlsi','ec','ec','ec','cs','cs','ec','ec','vlsi','cs','Gen','Gen','Gen','Projects',\"projects\"] ,\n",
    "'Year': [2020,2020,2022,2022,2020,2020,2021,2021,2021,2021,2021,2022,2021,2021,2022,2021,2022,2022],\n",
    "'Semester':[4,3,5,7,3,6,5,5,6,5,6,5,4,4,6,7,7,8] ,     \n",
    "'Marks_scored': [91,92,68,63,71,61,59,75,49,60,69,63,58,90,90,94,93,96],\n",
    "'Max_marks':[100,100,100,100,100,100,100,100,100,100,100,100,100,100,100,100,100,100] ,\n",
    "'Grade':['o','o','c','c','b','c','d','b','e','c','c','c','d','o','o','o','o','o']\n",
    "}"
   ]
  },
  {
   "cell_type": "code",
   "execution_count": 81,
   "id": "27672fb6",
   "metadata": {},
   "outputs": [],
   "source": [
    "df=pd.DataFrame(data)"
   ]
  },
  {
   "cell_type": "code",
   "execution_count": 82,
   "id": "39cd02c9",
   "metadata": {},
   "outputs": [
    {
     "data": {
      "text/html": [
       "<div>\n",
       "<style scoped>\n",
       "    .dataframe tbody tr th:only-of-type {\n",
       "        vertical-align: middle;\n",
       "    }\n",
       "\n",
       "    .dataframe tbody tr th {\n",
       "        vertical-align: top;\n",
       "    }\n",
       "\n",
       "    .dataframe thead th {\n",
       "        text-align: right;\n",
       "    }\n",
       "</style>\n",
       "<table border=\"1\" class=\"dataframe\">\n",
       "  <thead>\n",
       "    <tr style=\"text-align: right;\">\n",
       "      <th></th>\n",
       "      <th>Subject_name</th>\n",
       "      <th>Subdivision</th>\n",
       "      <th>Year</th>\n",
       "      <th>Semester</th>\n",
       "      <th>Marks_scored</th>\n",
       "      <th>Max_marks</th>\n",
       "      <th>Grade</th>\n",
       "    </tr>\n",
       "  </thead>\n",
       "  <tbody>\n",
       "    <tr>\n",
       "      <th>0</th>\n",
       "      <td>ttnm</td>\n",
       "      <td>Gen</td>\n",
       "      <td>2020</td>\n",
       "      <td>4</td>\n",
       "      <td>91</td>\n",
       "      <td>100</td>\n",
       "      <td>o</td>\n",
       "    </tr>\n",
       "    <tr>\n",
       "      <th>1</th>\n",
       "      <td>dld</td>\n",
       "      <td>ec</td>\n",
       "      <td>2020</td>\n",
       "      <td>3</td>\n",
       "      <td>92</td>\n",
       "      <td>100</td>\n",
       "      <td>o</td>\n",
       "    </tr>\n",
       "    <tr>\n",
       "      <th>2</th>\n",
       "      <td>ackts</td>\n",
       "      <td>ec</td>\n",
       "      <td>2022</td>\n",
       "      <td>5</td>\n",
       "      <td>68</td>\n",
       "      <td>100</td>\n",
       "      <td>c</td>\n",
       "    </tr>\n",
       "    <tr>\n",
       "      <th>3</th>\n",
       "      <td>uvm</td>\n",
       "      <td>vlsi</td>\n",
       "      <td>2022</td>\n",
       "      <td>7</td>\n",
       "      <td>63</td>\n",
       "      <td>100</td>\n",
       "      <td>c</td>\n",
       "    </tr>\n",
       "    <tr>\n",
       "      <th>4</th>\n",
       "      <td>edc</td>\n",
       "      <td>ec</td>\n",
       "      <td>2020</td>\n",
       "      <td>3</td>\n",
       "      <td>71</td>\n",
       "      <td>100</td>\n",
       "      <td>b</td>\n",
       "    </tr>\n",
       "    <tr>\n",
       "      <th>5</th>\n",
       "      <td>Con-Sys</td>\n",
       "      <td>ec</td>\n",
       "      <td>2020</td>\n",
       "      <td>6</td>\n",
       "      <td>61</td>\n",
       "      <td>100</td>\n",
       "      <td>c</td>\n",
       "    </tr>\n",
       "    <tr>\n",
       "      <th>6</th>\n",
       "      <td>Sig-Sys</td>\n",
       "      <td>ec</td>\n",
       "      <td>2021</td>\n",
       "      <td>5</td>\n",
       "      <td>59</td>\n",
       "      <td>100</td>\n",
       "      <td>d</td>\n",
       "    </tr>\n",
       "    <tr>\n",
       "      <th>7</th>\n",
       "      <td>oops</td>\n",
       "      <td>cs</td>\n",
       "      <td>2021</td>\n",
       "      <td>5</td>\n",
       "      <td>75</td>\n",
       "      <td>100</td>\n",
       "      <td>b</td>\n",
       "    </tr>\n",
       "    <tr>\n",
       "      <th>8</th>\n",
       "      <td>java</td>\n",
       "      <td>cs</td>\n",
       "      <td>2021</td>\n",
       "      <td>6</td>\n",
       "      <td>49</td>\n",
       "      <td>100</td>\n",
       "      <td>e</td>\n",
       "    </tr>\n",
       "    <tr>\n",
       "      <th>9</th>\n",
       "      <td>ac</td>\n",
       "      <td>ec</td>\n",
       "      <td>2021</td>\n",
       "      <td>5</td>\n",
       "      <td>60</td>\n",
       "      <td>100</td>\n",
       "      <td>c</td>\n",
       "    </tr>\n",
       "    <tr>\n",
       "      <th>10</th>\n",
       "      <td>dc</td>\n",
       "      <td>ec</td>\n",
       "      <td>2021</td>\n",
       "      <td>6</td>\n",
       "      <td>69</td>\n",
       "      <td>100</td>\n",
       "      <td>c</td>\n",
       "    </tr>\n",
       "    <tr>\n",
       "      <th>11</th>\n",
       "      <td>ddsv</td>\n",
       "      <td>vlsi</td>\n",
       "      <td>2022</td>\n",
       "      <td>5</td>\n",
       "      <td>63</td>\n",
       "      <td>100</td>\n",
       "      <td>c</td>\n",
       "    </tr>\n",
       "    <tr>\n",
       "      <th>12</th>\n",
       "      <td>dataStruc</td>\n",
       "      <td>cs</td>\n",
       "      <td>2021</td>\n",
       "      <td>4</td>\n",
       "      <td>58</td>\n",
       "      <td>100</td>\n",
       "      <td>d</td>\n",
       "    </tr>\n",
       "    <tr>\n",
       "      <th>13</th>\n",
       "      <td>ese</td>\n",
       "      <td>Gen</td>\n",
       "      <td>2021</td>\n",
       "      <td>4</td>\n",
       "      <td>90</td>\n",
       "      <td>100</td>\n",
       "      <td>o</td>\n",
       "    </tr>\n",
       "    <tr>\n",
       "      <th>14</th>\n",
       "      <td>Cyb-Sec</td>\n",
       "      <td>Gen</td>\n",
       "      <td>2022</td>\n",
       "      <td>6</td>\n",
       "      <td>90</td>\n",
       "      <td>100</td>\n",
       "      <td>o</td>\n",
       "    </tr>\n",
       "    <tr>\n",
       "      <th>15</th>\n",
       "      <td>english</td>\n",
       "      <td>Gen</td>\n",
       "      <td>2021</td>\n",
       "      <td>7</td>\n",
       "      <td>94</td>\n",
       "      <td>100</td>\n",
       "      <td>o</td>\n",
       "    </tr>\n",
       "    <tr>\n",
       "      <th>16</th>\n",
       "      <td>p1</td>\n",
       "      <td>Projects</td>\n",
       "      <td>2022</td>\n",
       "      <td>7</td>\n",
       "      <td>93</td>\n",
       "      <td>100</td>\n",
       "      <td>o</td>\n",
       "    </tr>\n",
       "    <tr>\n",
       "      <th>17</th>\n",
       "      <td>p2</td>\n",
       "      <td>projects</td>\n",
       "      <td>2022</td>\n",
       "      <td>8</td>\n",
       "      <td>96</td>\n",
       "      <td>100</td>\n",
       "      <td>o</td>\n",
       "    </tr>\n",
       "  </tbody>\n",
       "</table>\n",
       "</div>"
      ],
      "text/plain": [
       "   Subject_name Subdivision  Year  Semester  Marks_scored  Max_marks Grade\n",
       "0          ttnm         Gen  2020         4            91        100     o\n",
       "1           dld          ec  2020         3            92        100     o\n",
       "2         ackts          ec  2022         5            68        100     c\n",
       "3           uvm        vlsi  2022         7            63        100     c\n",
       "4           edc          ec  2020         3            71        100     b\n",
       "5       Con-Sys          ec  2020         6            61        100     c\n",
       "6       Sig-Sys          ec  2021         5            59        100     d\n",
       "7          oops          cs  2021         5            75        100     b\n",
       "8          java          cs  2021         6            49        100     e\n",
       "9            ac          ec  2021         5            60        100     c\n",
       "10           dc          ec  2021         6            69        100     c\n",
       "11         ddsv        vlsi  2022         5            63        100     c\n",
       "12    dataStruc          cs  2021         4            58        100     d\n",
       "13          ese         Gen  2021         4            90        100     o\n",
       "14      Cyb-Sec         Gen  2022         6            90        100     o\n",
       "15      english         Gen  2021         7            94        100     o\n",
       "16           p1    Projects  2022         7            93        100     o\n",
       "17           p2    projects  2022         8            96        100     o"
      ]
     },
     "execution_count": 82,
     "metadata": {},
     "output_type": "execute_result"
    }
   ],
   "source": [
    "df"
   ]
  },
  {
   "cell_type": "code",
   "execution_count": 83,
   "id": "fc5dddb4",
   "metadata": {},
   "outputs": [
    {
     "data": {
      "text/plain": [
       "Year\n",
       "2020    78.750000\n",
       "2021    69.250000\n",
       "2022    78.833333\n",
       "Name: Marks_scored, dtype: float64"
      ]
     },
     "execution_count": 83,
     "metadata": {},
     "output_type": "execute_result"
    }
   ],
   "source": [
    "df.groupby(\"Year\")[\"Marks_scored\"].mean()  # yearwise average score"
   ]
  },
  {
   "cell_type": "code",
   "execution_count": 84,
   "id": "00e7ffdf",
   "metadata": {},
   "outputs": [
    {
     "data": {
      "text/plain": [
       "Semester\n",
       "3    81.500000\n",
       "4    79.666667\n",
       "5    65.000000\n",
       "6    67.250000\n",
       "7    83.333333\n",
       "8    96.000000\n",
       "Name: Marks_scored, dtype: float64"
      ]
     },
     "execution_count": 84,
     "metadata": {},
     "output_type": "execute_result"
    }
   ],
   "source": [
    "df.groupby('Semester')['Marks_scored'].mean() # semester wise average score"
   ]
  },
  {
   "cell_type": "code",
   "execution_count": 85,
   "id": "8a229358",
   "metadata": {},
   "outputs": [
    {
     "data": {
      "text/plain": [
       "Subdivision\n",
       "Gen         91.250000\n",
       "Projects    93.000000\n",
       "cs          60.666667\n",
       "ec          68.571429\n",
       "projects    96.000000\n",
       "vlsi        63.000000\n",
       "Name: Marks_scored, dtype: float64"
      ]
     },
     "execution_count": 85,
     "metadata": {},
     "output_type": "execute_result"
    }
   ],
   "source": [
    "df.groupby('Subdivision')['Marks_scored'].mean()  # subdivision wise average score"
   ]
  },
  {
   "cell_type": "code",
   "execution_count": 86,
   "id": "ae883872",
   "metadata": {},
   "outputs": [
    {
     "data": {
      "text/plain": [
       "Grade\n",
       "b    73.000000\n",
       "c    64.000000\n",
       "d    58.500000\n",
       "e    49.000000\n",
       "o    92.285714\n",
       "Name: Marks_scored, dtype: float64"
      ]
     },
     "execution_count": 86,
     "metadata": {},
     "output_type": "execute_result"
    }
   ],
   "source": [
    "df.groupby('Grade')['Marks_scored'].mean() # subject scores grade wise"
   ]
  },
  {
   "cell_type": "code",
   "execution_count": 87,
   "id": "bf5a9381",
   "metadata": {},
   "outputs": [],
   "source": [
    "def GradeCategories(marks):\n",
    "    if marks>=90:\n",
    "        return 'Excellent'\n",
    "    elif marks>=80 :\n",
    "        return 'VeryGood'\n",
    "    elif marks>=70 :\n",
    "        return 'Good'\n",
    "    else:\n",
    "        return 'Average'\n",
    "    \n",
    "df['GradeCateg']=df['Marks_scored'].apply(GradeCategories)"
   ]
  },
  {
   "cell_type": "code",
   "execution_count": 89,
   "id": "6496bc2a",
   "metadata": {},
   "outputs": [
    {
     "data": {
      "text/html": [
       "<div>\n",
       "<style scoped>\n",
       "    .dataframe tbody tr th:only-of-type {\n",
       "        vertical-align: middle;\n",
       "    }\n",
       "\n",
       "    .dataframe tbody tr th {\n",
       "        vertical-align: top;\n",
       "    }\n",
       "\n",
       "    .dataframe thead th {\n",
       "        text-align: right;\n",
       "    }\n",
       "</style>\n",
       "<table border=\"1\" class=\"dataframe\">\n",
       "  <thead>\n",
       "    <tr style=\"text-align: right;\">\n",
       "      <th></th>\n",
       "      <th>Subject_name</th>\n",
       "      <th>Subdivision</th>\n",
       "      <th>Year</th>\n",
       "      <th>Semester</th>\n",
       "      <th>Marks_scored</th>\n",
       "      <th>Max_marks</th>\n",
       "      <th>Grade</th>\n",
       "      <th>GradeCateg</th>\n",
       "    </tr>\n",
       "  </thead>\n",
       "  <tbody>\n",
       "    <tr>\n",
       "      <th>0</th>\n",
       "      <td>ttnm</td>\n",
       "      <td>Gen</td>\n",
       "      <td>2020</td>\n",
       "      <td>4</td>\n",
       "      <td>91</td>\n",
       "      <td>100</td>\n",
       "      <td>o</td>\n",
       "      <td>Excellent</td>\n",
       "    </tr>\n",
       "    <tr>\n",
       "      <th>1</th>\n",
       "      <td>dld</td>\n",
       "      <td>ec</td>\n",
       "      <td>2020</td>\n",
       "      <td>3</td>\n",
       "      <td>92</td>\n",
       "      <td>100</td>\n",
       "      <td>o</td>\n",
       "      <td>Excellent</td>\n",
       "    </tr>\n",
       "    <tr>\n",
       "      <th>2</th>\n",
       "      <td>ackts</td>\n",
       "      <td>ec</td>\n",
       "      <td>2022</td>\n",
       "      <td>5</td>\n",
       "      <td>68</td>\n",
       "      <td>100</td>\n",
       "      <td>c</td>\n",
       "      <td>Average</td>\n",
       "    </tr>\n",
       "    <tr>\n",
       "      <th>3</th>\n",
       "      <td>uvm</td>\n",
       "      <td>vlsi</td>\n",
       "      <td>2022</td>\n",
       "      <td>7</td>\n",
       "      <td>63</td>\n",
       "      <td>100</td>\n",
       "      <td>c</td>\n",
       "      <td>Average</td>\n",
       "    </tr>\n",
       "    <tr>\n",
       "      <th>4</th>\n",
       "      <td>edc</td>\n",
       "      <td>ec</td>\n",
       "      <td>2020</td>\n",
       "      <td>3</td>\n",
       "      <td>71</td>\n",
       "      <td>100</td>\n",
       "      <td>b</td>\n",
       "      <td>Good</td>\n",
       "    </tr>\n",
       "    <tr>\n",
       "      <th>5</th>\n",
       "      <td>Con-Sys</td>\n",
       "      <td>ec</td>\n",
       "      <td>2020</td>\n",
       "      <td>6</td>\n",
       "      <td>61</td>\n",
       "      <td>100</td>\n",
       "      <td>c</td>\n",
       "      <td>Average</td>\n",
       "    </tr>\n",
       "    <tr>\n",
       "      <th>6</th>\n",
       "      <td>Sig-Sys</td>\n",
       "      <td>ec</td>\n",
       "      <td>2021</td>\n",
       "      <td>5</td>\n",
       "      <td>59</td>\n",
       "      <td>100</td>\n",
       "      <td>d</td>\n",
       "      <td>Average</td>\n",
       "    </tr>\n",
       "    <tr>\n",
       "      <th>7</th>\n",
       "      <td>oops</td>\n",
       "      <td>cs</td>\n",
       "      <td>2021</td>\n",
       "      <td>5</td>\n",
       "      <td>75</td>\n",
       "      <td>100</td>\n",
       "      <td>b</td>\n",
       "      <td>Good</td>\n",
       "    </tr>\n",
       "    <tr>\n",
       "      <th>8</th>\n",
       "      <td>java</td>\n",
       "      <td>cs</td>\n",
       "      <td>2021</td>\n",
       "      <td>6</td>\n",
       "      <td>49</td>\n",
       "      <td>100</td>\n",
       "      <td>e</td>\n",
       "      <td>Average</td>\n",
       "    </tr>\n",
       "    <tr>\n",
       "      <th>9</th>\n",
       "      <td>ac</td>\n",
       "      <td>ec</td>\n",
       "      <td>2021</td>\n",
       "      <td>5</td>\n",
       "      <td>60</td>\n",
       "      <td>100</td>\n",
       "      <td>c</td>\n",
       "      <td>Average</td>\n",
       "    </tr>\n",
       "    <tr>\n",
       "      <th>10</th>\n",
       "      <td>dc</td>\n",
       "      <td>ec</td>\n",
       "      <td>2021</td>\n",
       "      <td>6</td>\n",
       "      <td>69</td>\n",
       "      <td>100</td>\n",
       "      <td>c</td>\n",
       "      <td>Average</td>\n",
       "    </tr>\n",
       "    <tr>\n",
       "      <th>11</th>\n",
       "      <td>ddsv</td>\n",
       "      <td>vlsi</td>\n",
       "      <td>2022</td>\n",
       "      <td>5</td>\n",
       "      <td>63</td>\n",
       "      <td>100</td>\n",
       "      <td>c</td>\n",
       "      <td>Average</td>\n",
       "    </tr>\n",
       "    <tr>\n",
       "      <th>12</th>\n",
       "      <td>dataStruc</td>\n",
       "      <td>cs</td>\n",
       "      <td>2021</td>\n",
       "      <td>4</td>\n",
       "      <td>58</td>\n",
       "      <td>100</td>\n",
       "      <td>d</td>\n",
       "      <td>Average</td>\n",
       "    </tr>\n",
       "    <tr>\n",
       "      <th>13</th>\n",
       "      <td>ese</td>\n",
       "      <td>Gen</td>\n",
       "      <td>2021</td>\n",
       "      <td>4</td>\n",
       "      <td>90</td>\n",
       "      <td>100</td>\n",
       "      <td>o</td>\n",
       "      <td>Excellent</td>\n",
       "    </tr>\n",
       "    <tr>\n",
       "      <th>14</th>\n",
       "      <td>Cyb-Sec</td>\n",
       "      <td>Gen</td>\n",
       "      <td>2022</td>\n",
       "      <td>6</td>\n",
       "      <td>90</td>\n",
       "      <td>100</td>\n",
       "      <td>o</td>\n",
       "      <td>Excellent</td>\n",
       "    </tr>\n",
       "    <tr>\n",
       "      <th>15</th>\n",
       "      <td>english</td>\n",
       "      <td>Gen</td>\n",
       "      <td>2021</td>\n",
       "      <td>7</td>\n",
       "      <td>94</td>\n",
       "      <td>100</td>\n",
       "      <td>o</td>\n",
       "      <td>Excellent</td>\n",
       "    </tr>\n",
       "    <tr>\n",
       "      <th>16</th>\n",
       "      <td>p1</td>\n",
       "      <td>Projects</td>\n",
       "      <td>2022</td>\n",
       "      <td>7</td>\n",
       "      <td>93</td>\n",
       "      <td>100</td>\n",
       "      <td>o</td>\n",
       "      <td>Excellent</td>\n",
       "    </tr>\n",
       "    <tr>\n",
       "      <th>17</th>\n",
       "      <td>p2</td>\n",
       "      <td>projects</td>\n",
       "      <td>2022</td>\n",
       "      <td>8</td>\n",
       "      <td>96</td>\n",
       "      <td>100</td>\n",
       "      <td>o</td>\n",
       "      <td>Excellent</td>\n",
       "    </tr>\n",
       "  </tbody>\n",
       "</table>\n",
       "</div>"
      ],
      "text/plain": [
       "   Subject_name Subdivision  Year  Semester  Marks_scored  Max_marks Grade  \\\n",
       "0          ttnm         Gen  2020         4            91        100     o   \n",
       "1           dld          ec  2020         3            92        100     o   \n",
       "2         ackts          ec  2022         5            68        100     c   \n",
       "3           uvm        vlsi  2022         7            63        100     c   \n",
       "4           edc          ec  2020         3            71        100     b   \n",
       "5       Con-Sys          ec  2020         6            61        100     c   \n",
       "6       Sig-Sys          ec  2021         5            59        100     d   \n",
       "7          oops          cs  2021         5            75        100     b   \n",
       "8          java          cs  2021         6            49        100     e   \n",
       "9            ac          ec  2021         5            60        100     c   \n",
       "10           dc          ec  2021         6            69        100     c   \n",
       "11         ddsv        vlsi  2022         5            63        100     c   \n",
       "12    dataStruc          cs  2021         4            58        100     d   \n",
       "13          ese         Gen  2021         4            90        100     o   \n",
       "14      Cyb-Sec         Gen  2022         6            90        100     o   \n",
       "15      english         Gen  2021         7            94        100     o   \n",
       "16           p1    Projects  2022         7            93        100     o   \n",
       "17           p2    projects  2022         8            96        100     o   \n",
       "\n",
       "   GradeCateg  \n",
       "0   Excellent  \n",
       "1   Excellent  \n",
       "2     Average  \n",
       "3     Average  \n",
       "4        Good  \n",
       "5     Average  \n",
       "6     Average  \n",
       "7        Good  \n",
       "8     Average  \n",
       "9     Average  \n",
       "10    Average  \n",
       "11    Average  \n",
       "12    Average  \n",
       "13  Excellent  \n",
       "14  Excellent  \n",
       "15  Excellent  \n",
       "16  Excellent  \n",
       "17  Excellent  "
      ]
     },
     "execution_count": 89,
     "metadata": {},
     "output_type": "execute_result"
    }
   ],
   "source": [
    "df  # After Adding of New Column"
   ]
  },
  {
   "cell_type": "code",
   "execution_count": 90,
   "id": "0952d54f",
   "metadata": {},
   "outputs": [
    {
     "data": {
      "text/html": [
       "<div>\n",
       "<style scoped>\n",
       "    .dataframe tbody tr th:only-of-type {\n",
       "        vertical-align: middle;\n",
       "    }\n",
       "\n",
       "    .dataframe tbody tr th {\n",
       "        vertical-align: top;\n",
       "    }\n",
       "\n",
       "    .dataframe thead th {\n",
       "        text-align: right;\n",
       "    }\n",
       "</style>\n",
       "<table border=\"1\" class=\"dataframe\">\n",
       "  <thead>\n",
       "    <tr style=\"text-align: right;\">\n",
       "      <th></th>\n",
       "      <th>Year</th>\n",
       "      <th>Semester</th>\n",
       "      <th>Marks_scored</th>\n",
       "      <th>Max_marks</th>\n",
       "    </tr>\n",
       "  </thead>\n",
       "  <tbody>\n",
       "    <tr>\n",
       "      <th>count</th>\n",
       "      <td>18.000000</td>\n",
       "      <td>18.000000</td>\n",
       "      <td>18.000000</td>\n",
       "      <td>18.0</td>\n",
       "    </tr>\n",
       "    <tr>\n",
       "      <th>mean</th>\n",
       "      <td>2021.111111</td>\n",
       "      <td>5.333333</td>\n",
       "      <td>74.555556</td>\n",
       "      <td>100.0</td>\n",
       "    </tr>\n",
       "    <tr>\n",
       "      <th>std</th>\n",
       "      <td>0.758395</td>\n",
       "      <td>1.414214</td>\n",
       "      <td>15.621336</td>\n",
       "      <td>0.0</td>\n",
       "    </tr>\n",
       "    <tr>\n",
       "      <th>min</th>\n",
       "      <td>2020.000000</td>\n",
       "      <td>3.000000</td>\n",
       "      <td>49.000000</td>\n",
       "      <td>100.0</td>\n",
       "    </tr>\n",
       "    <tr>\n",
       "      <th>25%</th>\n",
       "      <td>2021.000000</td>\n",
       "      <td>4.250000</td>\n",
       "      <td>61.500000</td>\n",
       "      <td>100.0</td>\n",
       "    </tr>\n",
       "    <tr>\n",
       "      <th>50%</th>\n",
       "      <td>2021.000000</td>\n",
       "      <td>5.000000</td>\n",
       "      <td>70.000000</td>\n",
       "      <td>100.0</td>\n",
       "    </tr>\n",
       "    <tr>\n",
       "      <th>75%</th>\n",
       "      <td>2022.000000</td>\n",
       "      <td>6.000000</td>\n",
       "      <td>90.750000</td>\n",
       "      <td>100.0</td>\n",
       "    </tr>\n",
       "    <tr>\n",
       "      <th>max</th>\n",
       "      <td>2022.000000</td>\n",
       "      <td>8.000000</td>\n",
       "      <td>96.000000</td>\n",
       "      <td>100.0</td>\n",
       "    </tr>\n",
       "  </tbody>\n",
       "</table>\n",
       "</div>"
      ],
      "text/plain": [
       "              Year   Semester  Marks_scored  Max_marks\n",
       "count    18.000000  18.000000     18.000000       18.0\n",
       "mean   2021.111111   5.333333     74.555556      100.0\n",
       "std       0.758395   1.414214     15.621336        0.0\n",
       "min    2020.000000   3.000000     49.000000      100.0\n",
       "25%    2021.000000   4.250000     61.500000      100.0\n",
       "50%    2021.000000   5.000000     70.000000      100.0\n",
       "75%    2022.000000   6.000000     90.750000      100.0\n",
       "max    2022.000000   8.000000     96.000000      100.0"
      ]
     },
     "execution_count": 90,
     "metadata": {},
     "output_type": "execute_result"
    }
   ],
   "source": [
    "df.describe()"
   ]
  },
  {
   "cell_type": "markdown",
   "id": "372fec12",
   "metadata": {},
   "source": [
    "Sem 3 -- Mean, median, std"
   ]
  },
  {
   "cell_type": "code",
   "execution_count": 99,
   "id": "6ad85b63",
   "metadata": {},
   "outputs": [
    {
     "data": {
      "text/plain": [
       "81.5"
      ]
     },
     "execution_count": 99,
     "metadata": {},
     "output_type": "execute_result"
    }
   ],
   "source": [
    "df[df['Semester']==3]['Marks_scored'].mean()\n",
    "\n"
   ]
  },
  {
   "cell_type": "code",
   "execution_count": 100,
   "id": "3d8321e8",
   "metadata": {},
   "outputs": [
    {
     "data": {
      "text/plain": [
       "81.5"
      ]
     },
     "execution_count": 100,
     "metadata": {},
     "output_type": "execute_result"
    }
   ],
   "source": [
    "df[df['Semester']==3]['Marks_scored'].median()\n"
   ]
  },
  {
   "cell_type": "code",
   "execution_count": 106,
   "id": "f1d92850",
   "metadata": {},
   "outputs": [
    {
     "data": {
      "text/plain": [
       "14.849242404917497"
      ]
     },
     "execution_count": 106,
     "metadata": {},
     "output_type": "execute_result"
    }
   ],
   "source": [
    "df[df['Semester']==3]['Marks_scored'].std()"
   ]
  },
  {
   "cell_type": "markdown",
   "id": "55dfabb3",
   "metadata": {},
   "source": [
    "Sem 4 -- Mean, median, std"
   ]
  },
  {
   "cell_type": "code",
   "execution_count": 110,
   "id": "4280394d",
   "metadata": {},
   "outputs": [
    {
     "data": {
      "text/plain": [
       "79.66666666666667"
      ]
     },
     "execution_count": 110,
     "metadata": {},
     "output_type": "execute_result"
    }
   ],
   "source": [
    "df[df['Semester']==4]['Marks_scored'].mean()\n"
   ]
  },
  {
   "cell_type": "code",
   "execution_count": 111,
   "id": "7fa65024",
   "metadata": {},
   "outputs": [
    {
     "data": {
      "text/plain": [
       "90.0"
      ]
     },
     "execution_count": 111,
     "metadata": {},
     "output_type": "execute_result"
    }
   ],
   "source": [
    "df[df['Semester']==4]['Marks_scored'].median()\n"
   ]
  },
  {
   "cell_type": "code",
   "execution_count": 112,
   "id": "11be34e4",
   "metadata": {},
   "outputs": [
    {
     "data": {
      "text/plain": [
       "18.77054430040145"
      ]
     },
     "execution_count": 112,
     "metadata": {},
     "output_type": "execute_result"
    }
   ],
   "source": [
    "df[df['Semester']==4]['Marks_scored'].std()"
   ]
  },
  {
   "cell_type": "markdown",
   "id": "fff697c7",
   "metadata": {},
   "source": [
    "Sem 5 -- Mean, median, std"
   ]
  },
  {
   "cell_type": "code",
   "execution_count": 113,
   "id": "8a815c46",
   "metadata": {},
   "outputs": [
    {
     "data": {
      "text/plain": [
       "65.0"
      ]
     },
     "execution_count": 113,
     "metadata": {},
     "output_type": "execute_result"
    }
   ],
   "source": [
    "df[df['Semester']==5]['Marks_scored'].mean()\n"
   ]
  },
  {
   "cell_type": "code",
   "execution_count": 114,
   "id": "1ed26d60",
   "metadata": {},
   "outputs": [
    {
     "data": {
      "text/plain": [
       "63.0"
      ]
     },
     "execution_count": 114,
     "metadata": {},
     "output_type": "execute_result"
    }
   ],
   "source": [
    "df[df['Semester']==5]['Marks_scored'].median()\n"
   ]
  },
  {
   "cell_type": "code",
   "execution_count": 115,
   "id": "d5a13359",
   "metadata": {},
   "outputs": [
    {
     "data": {
      "text/plain": [
       "6.59545297913646"
      ]
     },
     "execution_count": 115,
     "metadata": {},
     "output_type": "execute_result"
    }
   ],
   "source": [
    "df[df['Semester']==5]['Marks_scored'].std()"
   ]
  },
  {
   "cell_type": "markdown",
   "id": "e638e1fc",
   "metadata": {},
   "source": [
    "Sem 6 -- Mean, median, std"
   ]
  },
  {
   "cell_type": "code",
   "execution_count": 116,
   "id": "00980417",
   "metadata": {},
   "outputs": [
    {
     "data": {
      "text/plain": [
       "67.25"
      ]
     },
     "execution_count": 116,
     "metadata": {},
     "output_type": "execute_result"
    }
   ],
   "source": [
    "df[df['Semester']==6]['Marks_scored'].mean()\n"
   ]
  },
  {
   "cell_type": "code",
   "execution_count": 117,
   "id": "4a95e53b",
   "metadata": {},
   "outputs": [
    {
     "data": {
      "text/plain": [
       "65.0"
      ]
     },
     "execution_count": 117,
     "metadata": {},
     "output_type": "execute_result"
    }
   ],
   "source": [
    "df[df['Semester']==6]['Marks_scored'].median()\n"
   ]
  },
  {
   "cell_type": "code",
   "execution_count": 118,
   "id": "0227e9ef",
   "metadata": {},
   "outputs": [
    {
     "data": {
      "text/plain": [
       "17.25060385416503"
      ]
     },
     "execution_count": 118,
     "metadata": {},
     "output_type": "execute_result"
    }
   ],
   "source": [
    "df[df['Semester']==6]['Marks_scored'].std()"
   ]
  },
  {
   "cell_type": "markdown",
   "id": "6f8c2ac9",
   "metadata": {},
   "source": [
    "Sem 7 -- Mean, median, std"
   ]
  },
  {
   "cell_type": "code",
   "execution_count": 119,
   "id": "e86b6db6",
   "metadata": {},
   "outputs": [
    {
     "data": {
      "text/plain": [
       "83.33333333333333"
      ]
     },
     "execution_count": 119,
     "metadata": {},
     "output_type": "execute_result"
    }
   ],
   "source": [
    "df[df['Semester']==7]['Marks_scored'].mean()\n"
   ]
  },
  {
   "cell_type": "code",
   "execution_count": 120,
   "id": "abc1623a",
   "metadata": {},
   "outputs": [
    {
     "data": {
      "text/plain": [
       "93.0"
      ]
     },
     "execution_count": 120,
     "metadata": {},
     "output_type": "execute_result"
    }
   ],
   "source": [
    "df[df['Semester']==7]['Marks_scored'].median()\n"
   ]
  },
  {
   "cell_type": "code",
   "execution_count": 121,
   "id": "401e133f",
   "metadata": {},
   "outputs": [
    {
     "data": {
      "text/plain": [
       "17.616280348965084"
      ]
     },
     "execution_count": 121,
     "metadata": {},
     "output_type": "execute_result"
    }
   ],
   "source": [
    "df[df['Semester']==7]['Marks_scored'].std()"
   ]
  },
  {
   "cell_type": "markdown",
   "id": "0eea886d",
   "metadata": {},
   "source": [
    "Sem 8 -- Mean, median, std"
   ]
  },
  {
   "cell_type": "code",
   "execution_count": 122,
   "id": "f146751e",
   "metadata": {},
   "outputs": [
    {
     "data": {
      "text/plain": [
       "96.0"
      ]
     },
     "execution_count": 122,
     "metadata": {},
     "output_type": "execute_result"
    }
   ],
   "source": [
    "df[df['Semester']==8]['Marks_scored'].mean()\n"
   ]
  },
  {
   "cell_type": "code",
   "execution_count": 123,
   "id": "dccac68e",
   "metadata": {},
   "outputs": [
    {
     "data": {
      "text/plain": [
       "96.0"
      ]
     },
     "execution_count": 123,
     "metadata": {},
     "output_type": "execute_result"
    }
   ],
   "source": [
    "df[df['Semester']==8]['Marks_scored'].median()\n"
   ]
  },
  {
   "cell_type": "code",
   "execution_count": 124,
   "id": "64c8b3f5",
   "metadata": {},
   "outputs": [
    {
     "data": {
      "text/plain": [
       "nan"
      ]
     },
     "execution_count": 124,
     "metadata": {},
     "output_type": "execute_result"
    }
   ],
   "source": [
    "df[df['Semester']==8]['Marks_scored'].std()"
   ]
  },
  {
   "cell_type": "markdown",
   "id": "c0aa4db9",
   "metadata": {},
   "source": [
    "USE OF MATPLOTLIB FOR GRAPHS"
   ]
  },
  {
   "cell_type": "code",
   "execution_count": 155,
   "id": "11fd188c",
   "metadata": {},
   "outputs": [],
   "source": [
    "import matplotlib.pyplot as plt"
   ]
  },
  {
   "cell_type": "code",
   "execution_count": 156,
   "id": "5e2d5cd2",
   "metadata": {},
   "outputs": [],
   "source": [
    "avg_marks=[df[df['Semester']==3]['Marks_scored'].mean()\n",
    ",df[df['Semester']==4]['Marks_scored'].mean()\n",
    ",df[df['Semester']==5]['Marks_scored'].mean()\n",
    ",df[df['Semester']==6]['Marks_scored'].mean()\n",
    ",df[df['Semester']==7]['Marks_scored'].mean(),\n",
    "df[df['Semester']==8]['Marks_scored'].mean()\n",
    "]\n",
    "\n"
   ]
  },
  {
   "cell_type": "code",
   "execution_count": 157,
   "id": "414f4367",
   "metadata": {},
   "outputs": [],
   "source": [
    "semesters=[3,4,5,6,7,8]"
   ]
  },
  {
   "cell_type": "code",
   "execution_count": 171,
   "id": "63535870",
   "metadata": {},
   "outputs": [
    {
     "data": {
      "text/plain": [
       "Text(0.5, 1.0, 'Semester wise average marks by line plot')"
      ]
     },
     "execution_count": 171,
     "metadata": {},
     "output_type": "execute_result"
    },
    {
     "data": {
      "image/png": "[encoded data removed]",
      "text/plain": [
       "<Figure size 640x480 with 1 Axes>"
      ]
     },
     "metadata": {},
     "output_type": "display_data"
    }
   ],
   "source": [
    "# Average marks graph by line plot\n",
    "\n",
    "plt.plot(semesters,avg_marks,label='Average')\n",
    "plt.xlabel('Semester')\n",
    "plt.ylabel('Avg-marks')\n",
    "plt.title('Semester wise average marks by line plot')"
   ]
  },
  {
   "cell_type": "code",
   "execution_count": 173,
   "id": "23064d57",
   "metadata": {},
   "outputs": [
    {
     "data": {
      "text/plain": [
       "Text(0.5, 1.0, 'Semester wise average marks by BAR plot')"
      ]
     },
     "execution_count": 173,
     "metadata": {},
     "output_type": "execute_result"
    },
    {
     "data": {
      "image/png": "[encoded data removed]",
      "text/plain": [
       "<Figure size 640x480 with 1 Axes>"
      ]
     },
     "metadata": {},
     "output_type": "display_data"
    }
   ],
   "source": [
    "# Average marks graph by Bar plot\n",
    "\n",
    "plt.bar(semesters,avg_marks,label='Average')\n",
    "plt.xlabel('Semester')\n",
    "plt.ylabel('Avg-marks')\n",
    "plt.title('Semester wise average marks by BAR plot')"
   ]
  },
  {
   "cell_type": "code",
   "execution_count": 174,
   "id": "e50c68b9",
   "metadata": {},
   "outputs": [
    {
     "data": {
      "text/plain": [
       "(array([2., 0., 0., 0., 1., 2., 0., 0., 0., 1.]),\n",
       " array([65. , 68.1, 71.2, 74.3, 77.4, 80.5, 83.6, 86.7, 89.8, 92.9, 96. ]),\n",
       " <BarContainer object of 10 artists>)"
      ]
     },
     "execution_count": 174,
     "metadata": {},
     "output_type": "execute_result"
    },
    {
     "data": {
      "image/png": "[encoded data removed]",
      "text/plain": [
       "<Figure size 640x480 with 1 Axes>"
      ]
     },
     "metadata": {},
     "output_type": "display_data"
    }
   ],
   "source": [
    "plt.hist(avg_marks)  # Histogram for Avg-Marks"
   ]
  },
  {
   "cell_type": "code",
   "execution_count": 175,
   "id": "3f269c5f",
   "metadata": {},
   "outputs": [
    {
     "data": {
      "text/plain": [
       "{'whiskers': [<matplotlib.lines.Line2D at 0x12efe2680>,\n",
       "  <matplotlib.lines.Line2D at 0x12efe2920>],\n",
       " 'caps': [<matplotlib.lines.Line2D at 0x12efe2bc0>,\n",
       "  <matplotlib.lines.Line2D at 0x12efe2d40>],\n",
       " 'boxes': [<matplotlib.lines.Line2D at 0x12efe23b0>],\n",
       " 'medians': [<matplotlib.lines.Line2D at 0x12efe2fe0>],\n",
       " 'fliers': [<matplotlib.lines.Line2D at 0x12efe3280>],\n",
       " 'means': []}"
      ]
     },
     "execution_count": 175,
     "metadata": {},
     "output_type": "execute_result"
    },
    {
     "data": {
      "image/png": "[encoded data removed]",
      "text/plain": [
       "<Figure size 640x480 with 1 Axes>"
      ]
     },
     "metadata": {},
     "output_type": "display_data"
    }
   ],
   "source": [
    "plt.boxplot(avg_marks)    # Boxplot for Avg-Marks"
   ]
  },
  {
   "cell_type": "code",
   "execution_count": 177,
   "id": "34652827",
   "metadata": {},
   "outputs": [
    {
     "data": {
      "text/plain": [
       "[91, 92, 68, 63, 71, 61, 59, 75, 49, 60, 69, 63, 58, 90, 90, 94, 93, 96]"
      ]
     },
     "execution_count": 177,
     "metadata": {},
     "output_type": "execute_result"
    }
   ],
   "source": [
    "# to make entire marks colum into a list\n",
    "\n",
    "j1=[]\n",
    "for j in (df['Marks_scored']):\n",
    "    j1.append(j)\n",
    "j1    "
   ]
  },
  {
   "cell_type": "code",
   "execution_count": 178,
   "id": "bac4c337",
   "metadata": {},
   "outputs": [
    {
     "data": {
      "text/plain": [
       "(array([1., 1., 5., 0., 3., 1., 0., 0., 3., 4.]),\n",
       " array([49. , 53.7, 58.4, 63.1, 67.8, 72.5, 77.2, 81.9, 86.6, 91.3, 96. ]),\n",
       " <BarContainer object of 10 artists>)"
      ]
     },
     "execution_count": 178,
     "metadata": {},
     "output_type": "execute_result"
    },
    {
     "data": {
      "image/png": "[encoded data removed]",
      "text/plain": [
       "<Figure size 640x480 with 1 Axes>"
      ]
     },
     "metadata": {},
     "output_type": "display_data"
    }
   ],
   "source": [
    "plt.hist(j1)  # Histogram for Marks-scored"
   ]
  },
  {
   "cell_type": "code",
   "execution_count": 180,
   "id": "1138709f",
   "metadata": {},
   "outputs": [
    {
     "data": {
      "text/plain": [
       "{'whiskers': [<matplotlib.lines.Line2D at 0x12f4640d0>,\n",
       "  <matplotlib.lines.Line2D at 0x12f464310>],\n",
       " 'caps': [<matplotlib.lines.Line2D at 0x12f4645b0>,\n",
       "  <matplotlib.lines.Line2D at 0x12f464850>],\n",
       " 'boxes': [<matplotlib.lines.Line2D at 0x12f43bdf0>],\n",
       " 'medians': [<matplotlib.lines.Line2D at 0x12f464af0>],\n",
       " 'fliers': [<matplotlib.lines.Line2D at 0x12f464d90>],\n",
       " 'means': []}"
      ]
     },
     "execution_count": 180,
     "metadata": {},
     "output_type": "execute_result"
    },
    {
     "data": {
      "image/png": "[encoded data removed]",
      "text/plain": [
       "<Figure size 640x480 with 1 Axes>"
      ]
     },
     "metadata": {},
     "output_type": "display_data"
    }
   ],
   "source": [
    "plt.boxplot(j1)  # Boxplot for Marks_scored"
   ]
  },
  {
   "cell_type": "code",
   "execution_count": null,
   "id": "8195b7e8",
   "metadata": {},
   "outputs": [],
   "source": []
  }
 ],
 "metadata": {
  "kernelspec": {
   "display_name": "Python 3 (ipykernel)",
   "language": "python",
   "name": "python3"
  },
  "language_info": {
   "codemirror_mode": {
    "name": "ipython",
    "version": 3
   },
   "file_extension": ".py",
   "mimetype": "text/x-python",
   "name": "python",
   "nbconvert_exporter": "python",
   "pygments_lexer": "ipython3",
   "version": "3.10.9"
  }
 },
 "nbformat": 4,
 "nbformat_minor": 5
}
